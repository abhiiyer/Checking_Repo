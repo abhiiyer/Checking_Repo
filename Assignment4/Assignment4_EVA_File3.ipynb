{
  "nbformat": 4,
  "nbformat_minor": 0,
  "metadata": {
    "colab": {
      "name": "Assignment4_EVA_File3.ipynb",
      "version": "0.3.2",
      "provenance": [],
      "collapsed_sections": [],
      "include_colab_link": true
    },
    "kernelspec": {
      "name": "python3",
      "display_name": "Python 3"
    }
  },
  "cells": [
    {
      "cell_type": "markdown",
      "metadata": {
        "id": "view-in-github",
        "colab_type": "text"
      },
      "source": [
        "<a href=\"https://colab.research.google.com/github/abhiiyer/Checking_Repo/blob/master/Assignment4/Assignment4_EVA_File3.ipynb\" target=\"_parent\"><img src=\"https://colab.research.google.com/assets/colab-badge.svg\" alt=\"Open In Colab\"/></a>"
      ]
    },
    {
      "cell_type": "code",
      "metadata": {
        "id": "T6y8s045OPis",
        "colab_type": "code",
        "outputId": "8cfee8c7-b0b5-4776-ceef-dcfe93605694",
        "colab": {
          "base_uri": "https://localhost:8080/",
          "height": 470
        }
      },
      "source": [
        "# https://keras.io/\n",
        "!pip install -q keras\n",
        "import keras\n",
        "\n",
        "import numpy as np\n",
        "\n",
        "############## This is the common code which will be used for all Iterations of Assignment -4 ####################\n",
        "\n",
        "from keras.models import Sequential\n",
        "from keras.layers import Dense, Dropout, Activation, Flatten, Add\n",
        "from keras.layers import Convolution2D, MaxPooling2D\n",
        "from keras.utils import np_utils\n",
        "\n",
        "from keras.datasets import mnist\n",
        "\n",
        "(X_train, y_train), (X_test, y_test) = mnist.load_data()\n",
        "\n",
        "print (X_train.shape)\n",
        "from matplotlib import pyplot as plt\n",
        "%matplotlib inline\n",
        "plt.imshow(X_train[0])\n",
        "\n",
        "X_train = X_train.reshape(X_train.shape[0], 28, 28,1)\n",
        "X_test = X_test.reshape(X_test.shape[0], 28, 28,1)\n",
        "\n",
        "X_train = X_train.astype('float32')\n",
        "X_test = X_test.astype('float32')\n",
        "X_train /= 255\n",
        "X_test /= 255\n",
        "\n",
        "y_train[:10]\n",
        "\n",
        "# Convert 1-dimensional class arrays to 10-dimensional class matrices\n",
        "Y_train = np_utils.to_categorical(y_train, 10)\n",
        "Y_test = np_utils.to_categorical(y_test, 10)\n",
        "\n",
        "Y_train[:10]"
      ],
      "execution_count": 1,
      "outputs": [
        {
          "output_type": "stream",
          "text": [
            "Using TensorFlow backend.\n"
          ],
          "name": "stderr"
        },
        {
          "output_type": "stream",
          "text": [
            "(60000, 28, 28)\n"
          ],
          "name": "stdout"
        },
        {
          "output_type": "execute_result",
          "data": {
            "text/plain": [
              "array([[0., 0., 0., 0., 0., 1., 0., 0., 0., 0.],\n",
              "       [1., 0., 0., 0., 0., 0., 0., 0., 0., 0.],\n",
              "       [0., 0., 0., 0., 1., 0., 0., 0., 0., 0.],\n",
              "       [0., 1., 0., 0., 0., 0., 0., 0., 0., 0.],\n",
              "       [0., 0., 0., 0., 0., 0., 0., 0., 0., 1.],\n",
              "       [0., 0., 1., 0., 0., 0., 0., 0., 0., 0.],\n",
              "       [0., 1., 0., 0., 0., 0., 0., 0., 0., 0.],\n",
              "       [0., 0., 0., 1., 0., 0., 0., 0., 0., 0.],\n",
              "       [0., 1., 0., 0., 0., 0., 0., 0., 0., 0.],\n",
              "       [0., 0., 0., 0., 1., 0., 0., 0., 0., 0.]], dtype=float32)"
            ]
          },
          "metadata": {
            "tags": []
          },
          "execution_count": 1
        },
        {
          "output_type": "display_data",
          "data": {
            "image/png": "[encoded data removed]",
            "text/plain": [
              "<Figure size 432x288 with 1 Axes>"
            ]
          },
          "metadata": {
            "tags": []
          }
        }
      ]
    },
    {
      "cell_type": "code",
      "metadata": {
        "id": "dW-kSCbqPEAz",
        "colab_type": "code",
        "outputId": "e93b559f-8943-471f-c984-05be620ba5fe",
        "colab": {
          "base_uri": "https://localhost:8080/",
          "height": 1213
        }
      },
      "source": [
        "############## Below Architecture is copied exactly from Ninth.ipynb showed by Rohan ####################\n",
        "\n",
        "\n",
        "from keras.layers import Dense, Dropout, Activation, Flatten, Add, BatchNormalization\n",
        "from keras.layers import Convolution2D, MaxPooling2D\n",
        "\n",
        "model = Sequential()\n",
        " \n",
        "model.add(Convolution2D(10, 3, 3, activation='relu', input_shape=(28,28,1))) #26\n",
        "model.add(BatchNormalization())\n",
        "model.add(Dropout(0.1))\n",
        "\n",
        "model.add(Convolution2D(16, 3, 3, activation='relu')) #24\n",
        "model.add(BatchNormalization())\n",
        "model.add(Dropout(0.1))\n",
        "\n",
        "model.add(Convolution2D(10, 1, 1, activation='relu')) #24\n",
        "\n",
        "model.add(MaxPooling2D(pool_size=(2, 2)))#12\n",
        "\n",
        "model.add(Convolution2D(16, 3, 3, activation='relu'))#10\n",
        "model.add(BatchNormalization())\n",
        "model.add(Dropout(0.1))\n",
        "\n",
        "\n",
        "model.add(Convolution2D(16, 3, 3, activation='relu'))#8\n",
        "model.add(BatchNormalization())\n",
        "model.add(Dropout(0.1))\n",
        "\n",
        "\n",
        "model.add(Convolution2D(16, 3, 3, activation='relu'))#6\n",
        "model.add(BatchNormalization())\n",
        "model.add(Dropout(0.1))\n",
        "\n",
        "\n",
        "model.add(Convolution2D(16, 3, 3, activation='relu'))#4\n",
        "model.add(BatchNormalization())\n",
        "model.add(Dropout(0.1))\n",
        "\n",
        "\n",
        "model.add(Convolution2D(10, 4, 4))\n",
        "#keras.layers.AveragePooling2D(pool_size=(4, 4))\n",
        "#model.add(BatchNormalization())\n",
        "#model.add(Dropout(0.1))\n",
        "\n",
        "\n",
        "model.add(Flatten())\n",
        "model.add(Activation('softmax'))\n",
        "\n",
        "\n",
        "model.summary()"
      ],
      "execution_count": 2,
      "outputs": [
        {
          "output_type": "stream",
          "text": [
            "WARNING:tensorflow:From /usr/local/lib/python3.6/dist-packages/tensorflow/python/framework/op_def_library.py:263: colocate_with (from tensorflow.python.framework.ops) is deprecated and will be removed in a future version.\n",
            "Instructions for updating:\n",
            "Colocations handled automatically by placer.\n"
          ],
          "name": "stdout"
        },
        {
          "output_type": "stream",
          "text": [
            "/usr/local/lib/python3.6/dist-packages/ipykernel_launcher.py:8: UserWarning: Update your `Conv2D` call to the Keras 2 API: `Conv2D(10, (3, 3), activation=\"relu\", input_shape=(28, 28, 1...)`\n",
            "  \n"
          ],
          "name": "stderr"
        },
        {
          "output_type": "stream",
          "text": [
            "WARNING:tensorflow:From /usr/local/lib/python3.6/dist-packages/keras/backend/tensorflow_backend.py:3445: calling dropout (from tensorflow.python.ops.nn_ops) with keep_prob is deprecated and will be removed in a future version.\n",
            "Instructions for updating:\n",
            "Please use `rate` instead of `keep_prob`. Rate should be set to `rate = 1 - keep_prob`.\n"
          ],
          "name": "stdout"
        },
        {
          "output_type": "stream",
          "text": [
            "/usr/local/lib/python3.6/dist-packages/ipykernel_launcher.py:12: UserWarning: Update your `Conv2D` call to the Keras 2 API: `Conv2D(16, (3, 3), activation=\"relu\")`\n",
            "  if sys.path[0] == '':\n",
            "/usr/local/lib/python3.6/dist-packages/ipykernel_launcher.py:16: UserWarning: Update your `Conv2D` call to the Keras 2 API: `Conv2D(10, (1, 1), activation=\"relu\")`\n",
            "  app.launch_new_instance()\n",
            "/usr/local/lib/python3.6/dist-packages/ipykernel_launcher.py:20: UserWarning: Update your `Conv2D` call to the Keras 2 API: `Conv2D(16, (3, 3), activation=\"relu\")`\n",
            "/usr/local/lib/python3.6/dist-packages/ipykernel_launcher.py:25: UserWarning: Update your `Conv2D` call to the Keras 2 API: `Conv2D(16, (3, 3), activation=\"relu\")`\n",
            "/usr/local/lib/python3.6/dist-packages/ipykernel_launcher.py:30: UserWarning: Update your `Conv2D` call to the Keras 2 API: `Conv2D(16, (3, 3), activation=\"relu\")`\n",
            "/usr/local/lib/python3.6/dist-packages/ipykernel_launcher.py:35: UserWarning: Update your `Conv2D` call to the Keras 2 API: `Conv2D(16, (3, 3), activation=\"relu\")`\n"
          ],
          "name": "stderr"
        },
        {
          "output_type": "stream",
          "text": [
            "_________________________________________________________________\n",
            "Layer (type)                 Output Shape              Param #   \n",
            "=================================================================\n",
            "conv2d_1 (Conv2D)            (None, 26, 26, 10)        100       \n",
            "_________________________________________________________________\n",
            "batch_normalization_1 (Batch (None, 26, 26, 10)        40        \n",
            "_________________________________________________________________\n",
            "dropout_1 (Dropout)          (None, 26, 26, 10)        0         \n",
            "_________________________________________________________________\n",
            "conv2d_2 (Conv2D)            (None, 24, 24, 16)        1456      \n",
            "_________________________________________________________________\n",
            "batch_normalization_2 (Batch (None, 24, 24, 16)        64        \n",
            "_________________________________________________________________\n",
            "dropout_2 (Dropout)          (None, 24, 24, 16)        0         \n",
            "_________________________________________________________________\n",
            "conv2d_3 (Conv2D)            (None, 24, 24, 10)        170       \n",
            "_________________________________________________________________\n",
            "max_pooling2d_1 (MaxPooling2 (None, 12, 12, 10)        0         \n",
            "_________________________________________________________________\n",
            "conv2d_4 (Conv2D)            (None, 10, 10, 16)        1456      \n",
            "_________________________________________________________________\n",
            "batch_normalization_3 (Batch (None, 10, 10, 16)        64        \n",
            "_________________________________________________________________\n",
            "dropout_3 (Dropout)          (None, 10, 10, 16)        0         \n",
            "_________________________________________________________________\n",
            "conv2d_5 (Conv2D)            (None, 8, 8, 16)          2320      \n",
            "_________________________________________________________________\n",
            "batch_normalization_4 (Batch (None, 8, 8, 16)          64        \n",
            "_________________________________________________________________\n",
            "dropout_4 (Dropout)          (None, 8, 8, 16)          0         \n",
            "_________________________________________________________________\n",
            "conv2d_6 (Conv2D)            (None, 6, 6, 16)          2320      \n",
            "_________________________________________________________________\n",
            "batch_normalization_5 (Batch (None, 6, 6, 16)          64        \n",
            "_________________________________________________________________\n",
            "dropout_5 (Dropout)          (None, 6, 6, 16)          0         \n",
            "_________________________________________________________________\n",
            "conv2d_7 (Conv2D)            (None, 4, 4, 16)          2320      \n",
            "_________________________________________________________________\n",
            "batch_normalization_6 (Batch (None, 4, 4, 16)          64        \n",
            "_________________________________________________________________\n",
            "dropout_6 (Dropout)          (None, 4, 4, 16)          0         \n",
            "_________________________________________________________________\n",
            "conv2d_8 (Conv2D)            (None, 1, 1, 10)          2570      \n",
            "_________________________________________________________________\n",
            "flatten_1 (Flatten)          (None, 10)                0         \n",
            "_________________________________________________________________\n",
            "activation_1 (Activation)    (None, 10)                0         \n",
            "=================================================================\n",
            "Total params: 13,072\n",
            "Trainable params: 12,892\n",
            "Non-trainable params: 180\n",
            "_________________________________________________________________\n"
          ],
          "name": "stdout"
        },
        {
          "output_type": "stream",
          "text": [
            "/usr/local/lib/python3.6/dist-packages/ipykernel_launcher.py:40: UserWarning: Update your `Conv2D` call to the Keras 2 API: `Conv2D(10, (4, 4))`\n"
          ],
          "name": "stderr"
        }
      ]
    },
    {
      "cell_type": "code",
      "metadata": {
        "id": "Kq6SY4lBPFaK",
        "colab_type": "code",
        "outputId": "7fee0ef6-be80-4c27-ed93-f9e4b6695ca7",
        "colab": {
          "base_uri": "https://localhost:8080/",
          "height": 793
        }
      },
      "source": [
        "############### Here instead of using Adam, RMSProp and used a learning rate of 0.001 #####################\n",
        "############### Accuracy of 99.42 in the 19th epoch ############### \n",
        "\n",
        "\n",
        "from keras.optimizers import Adam,RMSprop\n",
        "from keras.callbacks import LearningRateScheduler\n",
        "\n",
        "\n",
        "from keras import optimizers\n",
        "optimizer = keras.optimizers.RMSprop(lr=0.001, rho=0.9, epsilon=1e-08, decay=0.0)\n",
        "\n",
        "# Compile the model\n",
        "model.compile(optimizer = optimizer , loss = \"categorical_crossentropy\", metrics=[\"accuracy\"])\n",
        "\n",
        "\n",
        "model.fit(X_train, Y_train, batch_size=128, epochs=20, verbose=1, validation_data=(X_test, Y_test))"
      ],
      "execution_count": 0,
      "outputs": [
        {
          "output_type": "stream",
          "text": [
            "WARNING:tensorflow:From /usr/local/lib/python3.6/dist-packages/tensorflow/python/ops/math_ops.py:3066: to_int32 (from tensorflow.python.ops.math_ops) is deprecated and will be removed in a future version.\n",
            "Instructions for updating:\n",
            "Use tf.cast instead.\n",
            "Train on 60000 samples, validate on 10000 samples\n",
            "Epoch 1/20\n",
            "60000/60000 [==============================] - 152s 3ms/step - loss: 0.2890 - acc: 0.9095 - val_loss: 0.0772 - val_acc: 0.9749\n",
            "Epoch 2/20\n",
            "60000/60000 [==============================] - 151s 3ms/step - loss: 0.0820 - acc: 0.9746 - val_loss: 0.0485 - val_acc: 0.9840\n",
            "Epoch 3/20\n",
            "60000/60000 [==============================] - 153s 3ms/step - loss: 0.0592 - acc: 0.9816 - val_loss: 0.0416 - val_acc: 0.9881\n",
            "Epoch 4/20\n",
            "60000/60000 [==============================] - 152s 3ms/step - loss: 0.0524 - acc: 0.9839 - val_loss: 0.0281 - val_acc: 0.9918\n",
            "Epoch 5/20\n",
            "60000/60000 [==============================] - 153s 3ms/step - loss: 0.0462 - acc: 0.9853 - val_loss: 0.0272 - val_acc: 0.9911\n",
            "Epoch 6/20\n",
            "60000/60000 [==============================] - 152s 3ms/step - loss: 0.0415 - acc: 0.9866 - val_loss: 0.0263 - val_acc: 0.9921\n",
            "Epoch 7/20\n",
            "60000/60000 [==============================] - 152s 3ms/step - loss: 0.0390 - acc: 0.9873 - val_loss: 0.0310 - val_acc: 0.9896\n",
            "Epoch 8/20\n",
            "60000/60000 [==============================] - 151s 3ms/step - loss: 0.0376 - acc: 0.9880 - val_loss: 0.0218 - val_acc: 0.9924\n",
            "Epoch 9/20\n",
            "60000/60000 [==============================] - 151s 3ms/step - loss: 0.0345 - acc: 0.9894 - val_loss: 0.0225 - val_acc: 0.9920\n",
            "Epoch 10/20\n",
            "60000/60000 [==============================] - 151s 3ms/step - loss: 0.0330 - acc: 0.9900 - val_loss: 0.0266 - val_acc: 0.9921\n",
            "Epoch 11/20\n",
            "60000/60000 [==============================] - 152s 3ms/step - loss: 0.0324 - acc: 0.9897 - val_loss: 0.0259 - val_acc: 0.9919\n",
            "Epoch 12/20\n",
            "60000/60000 [==============================] - 151s 3ms/step - loss: 0.0294 - acc: 0.9902 - val_loss: 0.0224 - val_acc: 0.9936\n",
            "Epoch 13/20\n",
            "60000/60000 [==============================] - 151s 3ms/step - loss: 0.0290 - acc: 0.9906 - val_loss: 0.0208 - val_acc: 0.9932\n",
            "Epoch 14/20\n",
            "60000/60000 [==============================] - 151s 3ms/step - loss: 0.0283 - acc: 0.9907 - val_loss: 0.0208 - val_acc: 0.9929\n",
            "Epoch 15/20\n",
            "60000/60000 [==============================] - 152s 3ms/step - loss: 0.0263 - acc: 0.9917 - val_loss: 0.0198 - val_acc: 0.9941\n",
            "Epoch 16/20\n",
            "60000/60000 [==============================] - 152s 3ms/step - loss: 0.0276 - acc: 0.9913 - val_loss: 0.0192 - val_acc: 0.9927\n",
            "Epoch 17/20\n",
            "60000/60000 [==============================] - 152s 3ms/step - loss: 0.0261 - acc: 0.9917 - val_loss: 0.0182 - val_acc: 0.9933\n",
            "Epoch 18/20\n",
            "60000/60000 [==============================] - 151s 3ms/step - loss: 0.0249 - acc: 0.9920 - val_loss: 0.0228 - val_acc: 0.9925\n",
            "Epoch 19/20\n",
            "60000/60000 [==============================] - 151s 3ms/step - loss: 0.0249 - acc: 0.9921 - val_loss: 0.0186 - val_acc: 0.9942\n",
            "Epoch 20/20\n",
            "60000/60000 [==============================] - 151s 3ms/step - loss: 0.0230 - acc: 0.9924 - val_loss: 0.0258 - val_acc: 0.9922\n"
          ],
          "name": "stdout"
        },
        {
          "output_type": "execute_result",
          "data": {
            "text/plain": [
              "<keras.callbacks.History at 0x7f81872da400>"
            ]
          },
          "metadata": {
            "tags": []
          },
          "execution_count": 15
        }
      ]
    },
    {
      "cell_type": "code",
      "metadata": {
        "id": "X-3Kk4VxcmDA",
        "colab_type": "code",
        "outputId": "883639f2-5e0d-41a3-fca0-928012a6228d",
        "colab": {
          "base_uri": "https://localhost:8080/",
          "height": 1465
        }
      },
      "source": [
        "from keras.optimizers import Adam,RMSprop\n",
        "from keras.callbacks import LearningRateScheduler\n",
        "\n",
        "############### Only changed to SGD instead of RMSProp and learning rate = 0.001\n",
        "from keras import optimizers\n",
        "optimizer = keras.optimizers.SGD(lr=0.01)\n",
        "\n",
        "# Compile the model\n",
        "model.compile(optimizer = optimizer , loss = \"categorical_crossentropy\", metrics=[\"accuracy\"])\n",
        "\n",
        "\n",
        "model.fit(X_train, Y_train, batch_size=64, epochs=40, verbose=1, validation_data=(X_test, Y_test))"
      ],
      "execution_count": 3,
      "outputs": [
        {
          "output_type": "stream",
          "text": [
            "WARNING:tensorflow:From /usr/local/lib/python3.6/dist-packages/tensorflow/python/ops/math_ops.py:3066: to_int32 (from tensorflow.python.ops.math_ops) is deprecated and will be removed in a future version.\n",
            "Instructions for updating:\n",
            "Use tf.cast instead.\n",
            "Train on 60000 samples, validate on 10000 samples\n",
            "Epoch 1/40\n",
            "60000/60000 [==============================] - 309s 5ms/step - loss: 0.4537 - acc: 0.8614 - val_loss: 0.1381 - val_acc: 0.9580\n",
            "Epoch 2/40\n",
            "60000/60000 [==============================] - 308s 5ms/step - loss: 0.1519 - acc: 0.9542 - val_loss: 0.1106 - val_acc: 0.9653\n",
            "Epoch 3/40\n",
            "60000/60000 [==============================] - 310s 5ms/step - loss: 0.1142 - acc: 0.9651 - val_loss: 0.0645 - val_acc: 0.9791\n",
            "Epoch 4/40\n",
            "60000/60000 [==============================] - 311s 5ms/step - loss: 0.0952 - acc: 0.9700 - val_loss: 0.0593 - val_acc: 0.9811\n",
            "Epoch 5/40\n",
            "60000/60000 [==============================] - 314s 5ms/step - loss: 0.0823 - acc: 0.9748 - val_loss: 0.0507 - val_acc: 0.9835\n",
            "Epoch 6/40\n",
            "60000/60000 [==============================] - 317s 5ms/step - loss: 0.0741 - acc: 0.9766 - val_loss: 0.0497 - val_acc: 0.9836\n",
            "Epoch 7/40\n",
            "60000/60000 [==============================] - 318s 5ms/step - loss: 0.0688 - acc: 0.9783 - val_loss: 0.0488 - val_acc: 0.9843\n",
            "Epoch 8/40\n",
            "60000/60000 [==============================] - 316s 5ms/step - loss: 0.0634 - acc: 0.9798 - val_loss: 0.0396 - val_acc: 0.9870\n",
            "Epoch 9/40\n",
            "60000/60000 [==============================] - 312s 5ms/step - loss: 0.0607 - acc: 0.9811 - val_loss: 0.0377 - val_acc: 0.9877\n",
            "Epoch 10/40\n",
            "60000/60000 [==============================] - 316s 5ms/step - loss: 0.0567 - acc: 0.9821 - val_loss: 0.0397 - val_acc: 0.9877\n",
            "Epoch 11/40\n",
            "60000/60000 [==============================] - 316s 5ms/step - loss: 0.0540 - acc: 0.9834 - val_loss: 0.0338 - val_acc: 0.9892\n",
            "Epoch 12/40\n",
            "60000/60000 [==============================] - 315s 5ms/step - loss: 0.0528 - acc: 0.9828 - val_loss: 0.0353 - val_acc: 0.9881\n",
            "Epoch 13/40\n",
            "60000/60000 [==============================] - 320s 5ms/step - loss: 0.0510 - acc: 0.9837 - val_loss: 0.0321 - val_acc: 0.9906\n",
            "Epoch 14/40\n",
            "60000/60000 [==============================] - 321s 5ms/step - loss: 0.0479 - acc: 0.9852 - val_loss: 0.0315 - val_acc: 0.9896\n",
            "Epoch 15/40\n",
            "60000/60000 [==============================] - 319s 5ms/step - loss: 0.0462 - acc: 0.9850 - val_loss: 0.0290 - val_acc: 0.9902\n",
            "Epoch 16/40\n",
            "60000/60000 [==============================] - 320s 5ms/step - loss: 0.0440 - acc: 0.9861 - val_loss: 0.0304 - val_acc: 0.9903\n",
            "Epoch 17/40\n",
            "60000/60000 [==============================] - 319s 5ms/step - loss: 0.0425 - acc: 0.9864 - val_loss: 0.0307 - val_acc: 0.9902\n",
            "Epoch 18/40\n",
            "60000/60000 [==============================] - 317s 5ms/step - loss: 0.0430 - acc: 0.9865 - val_loss: 0.0278 - val_acc: 0.9909\n",
            "Epoch 19/40\n",
            "60000/60000 [==============================] - 319s 5ms/step - loss: 0.0404 - acc: 0.9876 - val_loss: 0.0282 - val_acc: 0.9908\n",
            "Epoch 20/40\n",
            "60000/60000 [==============================] - 319s 5ms/step - loss: 0.0403 - acc: 0.9872 - val_loss: 0.0270 - val_acc: 0.9910\n",
            "Epoch 21/40\n",
            "60000/60000 [==============================] - 319s 5ms/step - loss: 0.0395 - acc: 0.9875 - val_loss: 0.0277 - val_acc: 0.9914\n",
            "Epoch 22/40\n",
            "60000/60000 [==============================] - 319s 5ms/step - loss: 0.0386 - acc: 0.9881 - val_loss: 0.0260 - val_acc: 0.9920\n",
            "Epoch 23/40\n",
            "60000/60000 [==============================] - 322s 5ms/step - loss: 0.0369 - acc: 0.9883 - val_loss: 0.0261 - val_acc: 0.9919\n",
            "Epoch 24/40\n",
            "60000/60000 [==============================] - 322s 5ms/step - loss: 0.0372 - acc: 0.9882 - val_loss: 0.0263 - val_acc: 0.9917\n",
            "Epoch 25/40\n",
            "60000/60000 [==============================] - 320s 5ms/step - loss: 0.0358 - acc: 0.9884 - val_loss: 0.0279 - val_acc: 0.9907\n",
            "Epoch 26/40\n",
            "60000/60000 [==============================] - 319s 5ms/step - loss: 0.0354 - acc: 0.9885 - val_loss: 0.0254 - val_acc: 0.9913\n",
            "Epoch 27/40\n",
            "60000/60000 [==============================] - 318s 5ms/step - loss: 0.0343 - acc: 0.9896 - val_loss: 0.0251 - val_acc: 0.9918\n",
            "Epoch 28/40\n",
            "60000/60000 [==============================] - 318s 5ms/step - loss: 0.0343 - acc: 0.9889 - val_loss: 0.0239 - val_acc: 0.9924\n",
            "Epoch 29/40\n",
            "60000/60000 [==============================] - 320s 5ms/step - loss: 0.0326 - acc: 0.9895 - val_loss: 0.0231 - val_acc: 0.9921\n",
            "Epoch 30/40\n",
            "60000/60000 [==============================] - 317s 5ms/step - loss: 0.0319 - acc: 0.9896 - val_loss: 0.0242 - val_acc: 0.9916\n",
            "Epoch 31/40\n",
            "60000/60000 [==============================] - 320s 5ms/step - loss: 0.0332 - acc: 0.9898 - val_loss: 0.0246 - val_acc: 0.9913\n",
            "Epoch 32/40\n",
            "60000/60000 [==============================] - 321s 5ms/step - loss: 0.0319 - acc: 0.9897 - val_loss: 0.0228 - val_acc: 0.9927\n",
            "Epoch 33/40\n",
            "60000/60000 [==============================] - 319s 5ms/step - loss: 0.0300 - acc: 0.9902 - val_loss: 0.0233 - val_acc: 0.9920\n",
            "Epoch 34/40\n",
            "60000/60000 [==============================] - 317s 5ms/step - loss: 0.0313 - acc: 0.9899 - val_loss: 0.0228 - val_acc: 0.9924\n",
            "Epoch 35/40\n",
            "60000/60000 [==============================] - 317s 5ms/step - loss: 0.0309 - acc: 0.9899 - val_loss: 0.0254 - val_acc: 0.9911\n",
            "Epoch 36/40\n",
            "60000/60000 [==============================] - 318s 5ms/step - loss: 0.0293 - acc: 0.9908 - val_loss: 0.0238 - val_acc: 0.9919\n",
            "Epoch 37/40\n",
            "60000/60000 [==============================] - 317s 5ms/step - loss: 0.0294 - acc: 0.9906 - val_loss: 0.0236 - val_acc: 0.9919\n",
            "Epoch 38/40\n",
            "60000/60000 [==============================] - 317s 5ms/step - loss: 0.0289 - acc: 0.9910 - val_loss: 0.0221 - val_acc: 0.9924\n",
            "Epoch 39/40\n",
            "60000/60000 [==============================] - 316s 5ms/step - loss: 0.0289 - acc: 0.9907 - val_loss: 0.0230 - val_acc: 0.9924\n",
            "Epoch 40/40\n",
            "60000/60000 [==============================] - 317s 5ms/step - loss: 0.0280 - acc: 0.9912 - val_loss: 0.0222 - val_acc: 0.9922\n"
          ],
          "name": "stdout"
        },
        {
          "output_type": "execute_result",
          "data": {
            "text/plain": [
              "<keras.callbacks.History at 0x7f63cf9e5be0>"
            ]
          },
          "metadata": {
            "tags": []
          },
          "execution_count": 3
        }
      ]
    },
    {
      "cell_type": "code",
      "metadata": {
        "id": "rweO4PBW9sMt",
        "colab_type": "code",
        "colab": {
          "base_uri": "https://localhost:8080/",
          "height": 34
        },
        "outputId": "31387c73-affb-4305-cfda-e7eaaeed0a7f"
      },
      "source": [
        "score = model.evaluate(X_test, Y_test, verbose=0)\n",
        "print(score)"
      ],
      "execution_count": 4,
      "outputs": [
        {
          "output_type": "stream",
          "text": [
            "[0.02217366406533547, 0.9922]\n"
          ],
          "name": "stdout"
        }
      ]
    },
    {
      "cell_type": "code",
      "metadata": {
        "id": "kSE_-CYA-djX",
        "colab_type": "code",
        "colab": {}
      },
      "source": [
        ""
      ],
      "execution_count": 0,
      "outputs": []
    }
  ]
}